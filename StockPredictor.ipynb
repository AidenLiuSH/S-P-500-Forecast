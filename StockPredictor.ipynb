{
  "nbformat": 4,
  "nbformat_minor": 0,
  "metadata": {
    "kernelspec": {
      "display_name": "Python 3",
      "language": "python",
      "name": "python3"
    },
    "language_info": {
      "codemirror_mode": {
        "name": "ipython",
        "version": 3
      },
      "file_extension": ".py",
      "mimetype": "text/x-python",
      "name": "python",
      "nbconvert_exporter": "python",
      "pygments_lexer": "ipython3",
      "version": "3.7.6"
    },
    "colab": {
      "name": "StockPredictor.ipynb",
      "provenance": [],
      "include_colab_link": true
    }
  },
  "cells": [
    {
      "cell_type": "markdown",
      "metadata": {
        "id": "view-in-github",
        "colab_type": "text"
      },
      "source": [
        "<a href=\"https://colab.research.google.com/github/AidenLiuSH/Gold_Diggers/blob/main/StockPredictor.ipynb\" target=\"_parent\"><img src=\"https://colab.research.google.com/assets/colab-badge.svg\" alt=\"Open In Colab\"/></a>"
      ]
    },
    {
      "cell_type": "code",
      "metadata": {
        "id": "yvTUaB86ReLn",
        "outputId": "c1d51bcf-b7ee-4994-8001-7ced0be939c9"
      },
      "source": [
        "!pip install yfinance"
      ],
      "execution_count": null,
      "outputs": [
        {
          "name": "stdout",
          "output_type": "stream",
          "text": [
            "Collecting yfinance\n",
            "  Downloading yfinance-0.1.64.tar.gz (26 kB)\n",
            "Requirement already satisfied: pandas>=0.24 in /opt/anaconda3/lib/python3.7/site-packages (from yfinance) (1.0.1)\n",
            "Requirement already satisfied: numpy>=1.15 in /opt/anaconda3/lib/python3.7/site-packages (from yfinance) (1.18.1)\n",
            "Requirement already satisfied: requests>=2.20 in /opt/anaconda3/lib/python3.7/site-packages (from yfinance) (2.22.0)\n",
            "Collecting multitasking>=0.0.7\n",
            "  Downloading multitasking-0.0.9.tar.gz (8.1 kB)\n",
            "Collecting lxml>=4.5.1\n",
            "  Downloading lxml-4.6.3-cp37-cp37m-macosx_10_9_x86_64.whl (4.5 MB)\n",
            "\u001b[K     |████████████████████████████████| 4.5 MB 3.1 MB/s eta 0:00:01\n",
            "\u001b[?25hRequirement already satisfied: python-dateutil>=2.6.1 in /opt/anaconda3/lib/python3.7/site-packages (from pandas>=0.24->yfinance) (2.8.1)\n",
            "Requirement already satisfied: pytz>=2017.2 in /opt/anaconda3/lib/python3.7/site-packages (from pandas>=0.24->yfinance) (2019.3)\n",
            "Requirement already satisfied: chardet<3.1.0,>=3.0.2 in /opt/anaconda3/lib/python3.7/site-packages (from requests>=2.20->yfinance) (3.0.4)\n",
            "Requirement already satisfied: urllib3!=1.25.0,!=1.25.1,<1.26,>=1.21.1 in /opt/anaconda3/lib/python3.7/site-packages (from requests>=2.20->yfinance) (1.25.8)\n",
            "Requirement already satisfied: idna<2.9,>=2.5 in /opt/anaconda3/lib/python3.7/site-packages (from requests>=2.20->yfinance) (2.8)\n",
            "Requirement already satisfied: certifi>=2017.4.17 in /opt/anaconda3/lib/python3.7/site-packages (from requests>=2.20->yfinance) (2019.11.28)\n",
            "Requirement already satisfied: six>=1.5 in /opt/anaconda3/lib/python3.7/site-packages (from python-dateutil>=2.6.1->pandas>=0.24->yfinance) (1.14.0)\n",
            "Building wheels for collected packages: yfinance, multitasking\n",
            "  Building wheel for yfinance (setup.py) ... \u001b[?25ldone\n",
            "\u001b[?25h  Created wheel for yfinance: filename=yfinance-0.1.64-py2.py3-none-any.whl size=24094 sha256=3f3029f7e5cf29dee416d9e1e5affe55dee35c8f8c6471cc93f35f7b4f1d8bf9\n",
            "  Stored in directory: /Users/amoghashwath/Library/Caches/pip/wheels/86/fe/9b/a4d3d78796b699e37065e5b6c27b75cff448ddb8b24943c288\n",
            "  Building wheel for multitasking (setup.py) ... \u001b[?25ldone\n",
            "\u001b[?25h  Created wheel for multitasking: filename=multitasking-0.0.9-py3-none-any.whl size=8366 sha256=00f7b7b7fbb4ea1e62bc0600129653e8a1fccca042dd7aef4eb3dab2cd46fcd4\n",
            "  Stored in directory: /Users/amoghashwath/Library/Caches/pip/wheels/ae/25/47/4d68431a7ec1b6c4b5233365934b74c1d4e665bf5f968d363a\n",
            "Successfully built yfinance multitasking\n",
            "Installing collected packages: multitasking, lxml, yfinance\n",
            "  Attempting uninstall: lxml\n",
            "    Found existing installation: lxml 4.5.0\n",
            "    Uninstalling lxml-4.5.0:\n",
            "      Successfully uninstalled lxml-4.5.0\n",
            "Successfully installed lxml-4.6.3 multitasking-0.0.9 yfinance-0.1.64\n"
          ]
        }
      ]
    },
    {
      "cell_type": "code",
      "metadata": {
        "id": "xUPoFtkmReLq",
        "outputId": "1af5aa82-f2e5-493e-bf2e-e5d508c6f128"
      },
      "source": [
        "import yfinance as yf\n",
        "\n",
        "import pandas as pd\n",
        "import numpy as np\n",
        "import math as math\n",
        "\n",
        "import seaborn as sns\n",
        "import matplotlib.pyplot as plt\n",
        "%matplotlib inline\n",
        "\n",
        "\n",
        "GSPC = yf.download('^GSPC', period = '5y')#.rename(columns = {'Close': 'GSPC'}, inplace = True) # S&P500 index\n",
        "FTSE = yf.download('^FTSE', period = '5y') #FTSE daily return\n",
        "N225 = yf.download('^N225', period = '5y') #Nikkei daily return\n",
        "DJI = yf.download('^DJI', period = '5y')  #DJI return\n",
        "IXIC = yf.download('^IXIC', period = '5y')#NASDAQ daily return\n",
        "GC = yf.download('GC=F', period = '5y') #Gold price\n",
        "F = yf.download('F', period = '5y') #Share Price of Ford Motor Company  \n",
        "GSPC.rename(columns = {'Close': 'GSPC'}, inplace = True)\n",
        "FTSE.rename(columns = {'Close': 'FTSE'}, inplace = True)\n",
        "N225.rename(columns = {'Close': 'N225'}, inplace = True)\n",
        "DJI.rename(columns = {'Close': 'DJI'}, inplace = True)\n",
        "IXIC.rename(columns = {'Close': 'IXIC'}, inplace = True)\n",
        "GC.rename(columns = {'Close': 'GC'}, inplace = True)\n",
        "F.rename(columns = {'Close': 'F'}, inplace = True)\n",
        "GSPC = GSPC['GSPC']\n",
        "FTSE = FTSE['FTSE']\n",
        "N225 = N225['N225']\n",
        "DJI = DJI['DJI']\n",
        "IXIC = IXIC['IXIC']\n",
        "GC = GC['GC']\n",
        "F = F['F']\n"
      ],
      "execution_count": null,
      "outputs": [
        {
          "name": "stdout",
          "output_type": "stream",
          "text": [
            "[*********************100%***********************]  1 of 1 completed\n",
            "[*********************100%***********************]  1 of 1 completed\n",
            "[*********************100%***********************]  1 of 1 completed\n",
            "[*********************100%***********************]  1 of 1 completed\n",
            "[*********************100%***********************]  1 of 1 completed\n",
            "[*********************100%***********************]  1 of 1 completed\n",
            "[*********************100%***********************]  1 of 1 completed\n"
          ]
        }
      ]
    },
    {
      "cell_type": "code",
      "metadata": {
        "id": "eejHCupyReLs"
      },
      "source": [
        "df = pd.concat([GSPC, FTSE, N225, DJI, IXIC, GC, F], axis = 1)\n",
        "#df = pd.DataFrame(columns = ['S&P500','FTSE','Nikkei','DJI','NASDAQ','Gold'],)"
      ],
      "execution_count": null,
      "outputs": []
    },
    {
      "cell_type": "code",
      "metadata": {
        "id": "ohnGOFQgReLs",
        "outputId": "1c72e5d4-5b16-4ef3-99a6-b3170d988108"
      },
      "source": [
        "df"
      ],
      "execution_count": null,
      "outputs": [
        {
          "data": {
            "text/html": [
              "<div>\n",
              "<style scoped>\n",
              "    .dataframe tbody tr th:only-of-type {\n",
              "        vertical-align: middle;\n",
              "    }\n",
              "\n",
              "    .dataframe tbody tr th {\n",
              "        vertical-align: top;\n",
              "    }\n",
              "\n",
              "    .dataframe thead th {\n",
              "        text-align: right;\n",
              "    }\n",
              "</style>\n",
              "<table border=\"1\" class=\"dataframe\">\n",
              "  <thead>\n",
              "    <tr style=\"text-align: right;\">\n",
              "      <th></th>\n",
              "      <th>GSPC</th>\n",
              "      <th>FTSE</th>\n",
              "      <th>N225</th>\n",
              "      <th>DJI</th>\n",
              "      <th>IXIC</th>\n",
              "      <th>GC</th>\n",
              "      <th>F</th>\n",
              "    </tr>\n",
              "    <tr>\n",
              "      <th>Date</th>\n",
              "      <th></th>\n",
              "      <th></th>\n",
              "      <th></th>\n",
              "      <th></th>\n",
              "      <th></th>\n",
              "      <th></th>\n",
              "      <th></th>\n",
              "    </tr>\n",
              "  </thead>\n",
              "  <tbody>\n",
              "    <tr>\n",
              "      <th>2016-11-14</th>\n",
              "      <td>2164.199951</td>\n",
              "      <td>6753.200195</td>\n",
              "      <td>17672.619141</td>\n",
              "      <td>18868.689453</td>\n",
              "      <td>5218.399902</td>\n",
              "      <td>1221.199951</td>\n",
              "      <td>12.060000</td>\n",
              "    </tr>\n",
              "    <tr>\n",
              "      <th>2016-11-15</th>\n",
              "      <td>2180.389893</td>\n",
              "      <td>6792.700195</td>\n",
              "      <td>17668.150391</td>\n",
              "      <td>18923.060547</td>\n",
              "      <td>5275.620117</td>\n",
              "      <td>1224.000000</td>\n",
              "      <td>12.040000</td>\n",
              "    </tr>\n",
              "    <tr>\n",
              "      <th>2016-11-16</th>\n",
              "      <td>2176.939941</td>\n",
              "      <td>6749.700195</td>\n",
              "      <td>17862.210938</td>\n",
              "      <td>18868.140625</td>\n",
              "      <td>5294.580078</td>\n",
              "      <td>1223.400024</td>\n",
              "      <td>12.000000</td>\n",
              "    </tr>\n",
              "    <tr>\n",
              "      <th>2016-11-17</th>\n",
              "      <td>2187.120117</td>\n",
              "      <td>6794.700195</td>\n",
              "      <td>17862.630859</td>\n",
              "      <td>18903.820312</td>\n",
              "      <td>5333.970215</td>\n",
              "      <td>1216.500000</td>\n",
              "      <td>11.870000</td>\n",
              "    </tr>\n",
              "    <tr>\n",
              "      <th>2016-11-18</th>\n",
              "      <td>2181.899902</td>\n",
              "      <td>6775.799805</td>\n",
              "      <td>17967.410156</td>\n",
              "      <td>18867.929688</td>\n",
              "      <td>5321.509766</td>\n",
              "      <td>1208.500000</td>\n",
              "      <td>11.760000</td>\n",
              "    </tr>\n",
              "    <tr>\n",
              "      <th>...</th>\n",
              "      <td>...</td>\n",
              "      <td>...</td>\n",
              "      <td>...</td>\n",
              "      <td>...</td>\n",
              "      <td>...</td>\n",
              "      <td>...</td>\n",
              "      <td>...</td>\n",
              "    </tr>\n",
              "    <tr>\n",
              "      <th>2021-11-08</th>\n",
              "      <td>4701.700195</td>\n",
              "      <td>7300.399902</td>\n",
              "      <td>29507.050781</td>\n",
              "      <td>36432.218750</td>\n",
              "      <td>15982.360352</td>\n",
              "      <td>1827.400024</td>\n",
              "      <td>20.150000</td>\n",
              "    </tr>\n",
              "    <tr>\n",
              "      <th>2021-11-09</th>\n",
              "      <td>4685.250000</td>\n",
              "      <td>7274.000000</td>\n",
              "      <td>29285.460938</td>\n",
              "      <td>36319.980469</td>\n",
              "      <td>15886.540039</td>\n",
              "      <td>1830.199951</td>\n",
              "      <td>20.120001</td>\n",
              "    </tr>\n",
              "    <tr>\n",
              "      <th>2021-11-10</th>\n",
              "      <td>4646.709961</td>\n",
              "      <td>7340.200195</td>\n",
              "      <td>29106.779297</td>\n",
              "      <td>36079.941406</td>\n",
              "      <td>15622.709961</td>\n",
              "      <td>1847.599976</td>\n",
              "      <td>19.360001</td>\n",
              "    </tr>\n",
              "    <tr>\n",
              "      <th>2021-11-11</th>\n",
              "      <td>4649.270020</td>\n",
              "      <td>7384.200195</td>\n",
              "      <td>29277.859375</td>\n",
              "      <td>35921.230469</td>\n",
              "      <td>15704.280273</td>\n",
              "      <td>1863.199951</td>\n",
              "      <td>19.549999</td>\n",
              "    </tr>\n",
              "    <tr>\n",
              "      <th>2021-11-12</th>\n",
              "      <td>4682.850098</td>\n",
              "      <td>7347.899902</td>\n",
              "      <td>29609.970703</td>\n",
              "      <td>36100.308594</td>\n",
              "      <td>15860.959961</td>\n",
              "      <td>1867.900024</td>\n",
              "      <td>19.500000</td>\n",
              "    </tr>\n",
              "  </tbody>\n",
              "</table>\n",
              "<p>1300 rows × 7 columns</p>\n",
              "</div>"
            ],
            "text/plain": [
              "                   GSPC         FTSE          N225           DJI  \\\n",
              "Date                                                               \n",
              "2016-11-14  2164.199951  6753.200195  17672.619141  18868.689453   \n",
              "2016-11-15  2180.389893  6792.700195  17668.150391  18923.060547   \n",
              "2016-11-16  2176.939941  6749.700195  17862.210938  18868.140625   \n",
              "2016-11-17  2187.120117  6794.700195  17862.630859  18903.820312   \n",
              "2016-11-18  2181.899902  6775.799805  17967.410156  18867.929688   \n",
              "...                 ...          ...           ...           ...   \n",
              "2021-11-08  4701.700195  7300.399902  29507.050781  36432.218750   \n",
              "2021-11-09  4685.250000  7274.000000  29285.460938  36319.980469   \n",
              "2021-11-10  4646.709961  7340.200195  29106.779297  36079.941406   \n",
              "2021-11-11  4649.270020  7384.200195  29277.859375  35921.230469   \n",
              "2021-11-12  4682.850098  7347.899902  29609.970703  36100.308594   \n",
              "\n",
              "                    IXIC           GC          F  \n",
              "Date                                              \n",
              "2016-11-14   5218.399902  1221.199951  12.060000  \n",
              "2016-11-15   5275.620117  1224.000000  12.040000  \n",
              "2016-11-16   5294.580078  1223.400024  12.000000  \n",
              "2016-11-17   5333.970215  1216.500000  11.870000  \n",
              "2016-11-18   5321.509766  1208.500000  11.760000  \n",
              "...                  ...          ...        ...  \n",
              "2021-11-08  15982.360352  1827.400024  20.150000  \n",
              "2021-11-09  15886.540039  1830.199951  20.120001  \n",
              "2021-11-10  15622.709961  1847.599976  19.360001  \n",
              "2021-11-11  15704.280273  1863.199951  19.549999  \n",
              "2021-11-12  15860.959961  1867.900024  19.500000  \n",
              "\n",
              "[1300 rows x 7 columns]"
            ]
          },
          "execution_count": 4,
          "metadata": {},
          "output_type": "execute_result"
        }
      ]
    },
    {
      "cell_type": "code",
      "metadata": {
        "id": "2x9pMweWReLt",
        "outputId": "53a57f4d-9b13-4ab1-ddc4-758131ef6106"
      },
      "source": [
        "df.isnull().sum() # shows the total number of null values within a column "
      ],
      "execution_count": null,
      "outputs": [
        {
          "data": {
            "text/plain": [
              "GSPC    41\n",
              "FTSE    36\n",
              "N225    79\n",
              "DJI     41\n",
              "IXIC    41\n",
              "GC      52\n",
              "F       41\n",
              "dtype: int64"
            ]
          },
          "execution_count": 5,
          "metadata": {},
          "output_type": "execute_result"
        }
      ]
    },
    {
      "cell_type": "code",
      "metadata": {
        "id": "npqgbpQVReLt"
      },
      "source": [
        "df.dropna(axis = 0, inplace = True)"
      ],
      "execution_count": null,
      "outputs": []
    },
    {
      "cell_type": "code",
      "metadata": {
        "id": "UUrUGtdrReLt",
        "outputId": "14e886ec-edc7-4834-e27c-119c36601442"
      },
      "source": [
        "df.isnull().sum() # no more null values and the data therefore has continuity "
      ],
      "execution_count": null,
      "outputs": [
        {
          "data": {
            "text/plain": [
              "GSPC    0\n",
              "FTSE    0\n",
              "N225    0\n",
              "DJI     0\n",
              "IXIC    0\n",
              "GC      0\n",
              "F       0\n",
              "dtype: int64"
            ]
          },
          "execution_count": 7,
          "metadata": {},
          "output_type": "execute_result"
        }
      ]
    },
    {
      "cell_type": "code",
      "metadata": {
        "id": "2GTcrkBYReLu",
        "outputId": "e5c3d2b2-11a6-4cfb-fd4e-c2f9e3d650e5"
      },
      "source": [
        "df"
      ],
      "execution_count": null,
      "outputs": [
        {
          "data": {
            "text/html": [
              "<div>\n",
              "<style scoped>\n",
              "    .dataframe tbody tr th:only-of-type {\n",
              "        vertical-align: middle;\n",
              "    }\n",
              "\n",
              "    .dataframe tbody tr th {\n",
              "        vertical-align: top;\n",
              "    }\n",
              "\n",
              "    .dataframe thead th {\n",
              "        text-align: right;\n",
              "    }\n",
              "</style>\n",
              "<table border=\"1\" class=\"dataframe\">\n",
              "  <thead>\n",
              "    <tr style=\"text-align: right;\">\n",
              "      <th></th>\n",
              "      <th>GSPC</th>\n",
              "      <th>FTSE</th>\n",
              "      <th>N225</th>\n",
              "      <th>DJI</th>\n",
              "      <th>IXIC</th>\n",
              "      <th>GC</th>\n",
              "      <th>F</th>\n",
              "    </tr>\n",
              "    <tr>\n",
              "      <th>Date</th>\n",
              "      <th></th>\n",
              "      <th></th>\n",
              "      <th></th>\n",
              "      <th></th>\n",
              "      <th></th>\n",
              "      <th></th>\n",
              "      <th></th>\n",
              "    </tr>\n",
              "  </thead>\n",
              "  <tbody>\n",
              "    <tr>\n",
              "      <th>2016-11-14</th>\n",
              "      <td>2164.199951</td>\n",
              "      <td>6753.200195</td>\n",
              "      <td>17672.619141</td>\n",
              "      <td>18868.689453</td>\n",
              "      <td>5218.399902</td>\n",
              "      <td>1221.199951</td>\n",
              "      <td>12.060000</td>\n",
              "    </tr>\n",
              "    <tr>\n",
              "      <th>2016-11-15</th>\n",
              "      <td>2180.389893</td>\n",
              "      <td>6792.700195</td>\n",
              "      <td>17668.150391</td>\n",
              "      <td>18923.060547</td>\n",
              "      <td>5275.620117</td>\n",
              "      <td>1224.000000</td>\n",
              "      <td>12.040000</td>\n",
              "    </tr>\n",
              "    <tr>\n",
              "      <th>2016-11-16</th>\n",
              "      <td>2176.939941</td>\n",
              "      <td>6749.700195</td>\n",
              "      <td>17862.210938</td>\n",
              "      <td>18868.140625</td>\n",
              "      <td>5294.580078</td>\n",
              "      <td>1223.400024</td>\n",
              "      <td>12.000000</td>\n",
              "    </tr>\n",
              "    <tr>\n",
              "      <th>2016-11-17</th>\n",
              "      <td>2187.120117</td>\n",
              "      <td>6794.700195</td>\n",
              "      <td>17862.630859</td>\n",
              "      <td>18903.820312</td>\n",
              "      <td>5333.970215</td>\n",
              "      <td>1216.500000</td>\n",
              "      <td>11.870000</td>\n",
              "    </tr>\n",
              "    <tr>\n",
              "      <th>2016-11-18</th>\n",
              "      <td>2181.899902</td>\n",
              "      <td>6775.799805</td>\n",
              "      <td>17967.410156</td>\n",
              "      <td>18867.929688</td>\n",
              "      <td>5321.509766</td>\n",
              "      <td>1208.500000</td>\n",
              "      <td>11.760000</td>\n",
              "    </tr>\n",
              "    <tr>\n",
              "      <th>...</th>\n",
              "      <td>...</td>\n",
              "      <td>...</td>\n",
              "      <td>...</td>\n",
              "      <td>...</td>\n",
              "      <td>...</td>\n",
              "      <td>...</td>\n",
              "      <td>...</td>\n",
              "    </tr>\n",
              "    <tr>\n",
              "      <th>2021-11-08</th>\n",
              "      <td>4701.700195</td>\n",
              "      <td>7300.399902</td>\n",
              "      <td>29507.050781</td>\n",
              "      <td>36432.218750</td>\n",
              "      <td>15982.360352</td>\n",
              "      <td>1827.400024</td>\n",
              "      <td>20.150000</td>\n",
              "    </tr>\n",
              "    <tr>\n",
              "      <th>2021-11-09</th>\n",
              "      <td>4685.250000</td>\n",
              "      <td>7274.000000</td>\n",
              "      <td>29285.460938</td>\n",
              "      <td>36319.980469</td>\n",
              "      <td>15886.540039</td>\n",
              "      <td>1830.199951</td>\n",
              "      <td>20.120001</td>\n",
              "    </tr>\n",
              "    <tr>\n",
              "      <th>2021-11-10</th>\n",
              "      <td>4646.709961</td>\n",
              "      <td>7340.200195</td>\n",
              "      <td>29106.779297</td>\n",
              "      <td>36079.941406</td>\n",
              "      <td>15622.709961</td>\n",
              "      <td>1847.599976</td>\n",
              "      <td>19.360001</td>\n",
              "    </tr>\n",
              "    <tr>\n",
              "      <th>2021-11-11</th>\n",
              "      <td>4649.270020</td>\n",
              "      <td>7384.200195</td>\n",
              "      <td>29277.859375</td>\n",
              "      <td>35921.230469</td>\n",
              "      <td>15704.280273</td>\n",
              "      <td>1863.199951</td>\n",
              "      <td>19.549999</td>\n",
              "    </tr>\n",
              "    <tr>\n",
              "      <th>2021-11-12</th>\n",
              "      <td>4682.850098</td>\n",
              "      <td>7347.899902</td>\n",
              "      <td>29609.970703</td>\n",
              "      <td>36100.308594</td>\n",
              "      <td>15860.959961</td>\n",
              "      <td>1867.900024</td>\n",
              "      <td>19.500000</td>\n",
              "    </tr>\n",
              "  </tbody>\n",
              "</table>\n",
              "<p>1153 rows × 7 columns</p>\n",
              "</div>"
            ],
            "text/plain": [
              "                   GSPC         FTSE          N225           DJI  \\\n",
              "Date                                                               \n",
              "2016-11-14  2164.199951  6753.200195  17672.619141  18868.689453   \n",
              "2016-11-15  2180.389893  6792.700195  17668.150391  18923.060547   \n",
              "2016-11-16  2176.939941  6749.700195  17862.210938  18868.140625   \n",
              "2016-11-17  2187.120117  6794.700195  17862.630859  18903.820312   \n",
              "2016-11-18  2181.899902  6775.799805  17967.410156  18867.929688   \n",
              "...                 ...          ...           ...           ...   \n",
              "2021-11-08  4701.700195  7300.399902  29507.050781  36432.218750   \n",
              "2021-11-09  4685.250000  7274.000000  29285.460938  36319.980469   \n",
              "2021-11-10  4646.709961  7340.200195  29106.779297  36079.941406   \n",
              "2021-11-11  4649.270020  7384.200195  29277.859375  35921.230469   \n",
              "2021-11-12  4682.850098  7347.899902  29609.970703  36100.308594   \n",
              "\n",
              "                    IXIC           GC          F  \n",
              "Date                                              \n",
              "2016-11-14   5218.399902  1221.199951  12.060000  \n",
              "2016-11-15   5275.620117  1224.000000  12.040000  \n",
              "2016-11-16   5294.580078  1223.400024  12.000000  \n",
              "2016-11-17   5333.970215  1216.500000  11.870000  \n",
              "2016-11-18   5321.509766  1208.500000  11.760000  \n",
              "...                  ...          ...        ...  \n",
              "2021-11-08  15982.360352  1827.400024  20.150000  \n",
              "2021-11-09  15886.540039  1830.199951  20.120001  \n",
              "2021-11-10  15622.709961  1847.599976  19.360001  \n",
              "2021-11-11  15704.280273  1863.199951  19.549999  \n",
              "2021-11-12  15860.959961  1867.900024  19.500000  \n",
              "\n",
              "[1153 rows x 7 columns]"
            ]
          },
          "execution_count": 8,
          "metadata": {},
          "output_type": "execute_result"
        }
      ]
    },
    {
      "cell_type": "code",
      "metadata": {
        "scrolled": true,
        "id": "jJ31albdReLv",
        "outputId": "d8c58abd-b78a-4035-ea16-5d889a8d776f"
      },
      "source": [
        "df.F.plot()"
      ],
      "execution_count": null,
      "outputs": [
        {
          "data": {
            "text/plain": [
              "<matplotlib.axes._subplots.AxesSubplot at 0x1a22999bd0>"
            ]
          },
          "execution_count": 9,
          "metadata": {},
          "output_type": "execute_result"
        },
        {
          "data": {
            "image/png": "[encoded data removed]",
            "text/plain": [
              "<Figure size 432x288 with 1 Axes>"
            ]
          },
          "metadata": {
            "needs_background": "light"
          },
          "output_type": "display_data"
        }
      ]
    },
    {
      "cell_type": "code",
      "metadata": {
        "id": "UsgA_sgLReLw",
        "outputId": "506ed523-819e-4310-96b6-abf3cd9767fa"
      },
      "source": [
        "sns.distplot(df[\"GSPC\"]) # visualizing the data before using it "
      ],
      "execution_count": null,
      "outputs": [
        {
          "data": {
            "text/plain": [
              "<matplotlib.axes._subplots.AxesSubplot at 0x1a2311fad0>"
            ]
          },
          "execution_count": 10,
          "metadata": {},
          "output_type": "execute_result"
        },
        {
          "data": {
            "image/png": "[encoded data removed]",
            "text/plain": [
              "<Figure size 432x288 with 1 Axes>"
            ]
          },
          "metadata": {
            "needs_background": "light"
          },
          "output_type": "display_data"
        }
      ]
    },
    {
      "cell_type": "code",
      "metadata": {
        "id": "S9yNsUKtReLw"
      },
      "source": [
        "# splitting the dependent and independent variables \n",
        "X = df.drop(\"F\", axis = 1)\n",
        "y = df[\"F\"]\n",
        "#\n",
        "\n",
        "from sklearn.model_selection import train_test_split \n",
        "\n",
        "# using different sets for training and testing \n",
        "X_train, X_test, y_train, y_test = train_test_split(X, y, test_size = 0.2, random_state = 0)"
      ],
      "execution_count": null,
      "outputs": []
    },
    {
      "cell_type": "code",
      "metadata": {
        "id": "0R-q_nT6ReLx"
      },
      "source": [
        "from sklearn.linear_model import LinearRegression \n",
        "\n",
        "# creating regression object and fitting the model to make predictions \n",
        "lr = LinearRegression()\n",
        "lr.fit(X_train, y_train)\n",
        "prediction = lr.predict(X_test)"
      ],
      "execution_count": null,
      "outputs": []
    },
    {
      "cell_type": "code",
      "metadata": {
        "id": "f0zucVWrReLx",
        "outputId": "dcb27ddb-726e-44c0-e9b4-d9afc2ee926d"
      },
      "source": [
        "# checking the prediction (looking at the % error made on any given day)\n",
        "((prediction - y_test)/y_test)*100\n",
        "# not to bad considering the simplicity ofthe model "
      ],
      "execution_count": null,
      "outputs": [
        {
          "data": {
            "text/plain": [
              "Date\n",
              "2020-12-29    15.031920\n",
              "2018-06-11    -7.473543\n",
              "2021-08-19     7.135326\n",
              "2019-10-21    10.015144\n",
              "2018-03-19   -14.929910\n",
              "                ...    \n",
              "2021-03-18    -9.040627\n",
              "2019-11-26    15.803476\n",
              "2021-03-04    -0.868471\n",
              "2017-09-19    -8.376027\n",
              "2021-03-10   -11.804161\n",
              "Name: F, Length: 231, dtype: float64"
            ]
          },
          "execution_count": 13,
          "metadata": {},
          "output_type": "execute_result"
        }
      ]
    },
    {
      "cell_type": "code",
      "metadata": {
        "id": "cAq17D6YReLy",
        "outputId": "35600bf0-b287-4fa6-a64c-f60c413af7a7"
      },
      "source": [
        "# quantifying the goodness of the fit \n",
        "\n",
        "from sklearn.metrics import mean_squared_error, r2_score\n",
        "\n",
        "def calculate_fitmetrics(y_test, y_prediction):\n",
        "    mse = mean_squared_error(y_test, y_prediction) # variance of error residuals \n",
        "    rmse = np.sqrt(mse)\n",
        "    r = r2_score(y_test, y_prediction) \n",
        "    \n",
        "    print(mse)\n",
        "    print(rmse)\n",
        "    print(r)\n",
        "    \n",
        "\n",
        "    \n",
        "calculate_fitmetrics(y_test, prediction)\n",
        "\n"
      ],
      "execution_count": null,
      "outputs": [
        {
          "name": "stdout",
          "output_type": "stream",
          "text": [
            "1.2984181151695742\n",
            "1.1394815115523262\n",
            "0.7858807300765872\n"
          ]
        }
      ]
    },
    {
      "cell_type": "code",
      "metadata": {
        "id": "PwKLWlBOReLy"
      },
      "source": [
        "# relatively high r score therefore good fit "
      ],
      "execution_count": null,
      "outputs": []
    },
    {
      "cell_type": "code",
      "metadata": {
        "id": "zBs5q3COReLy",
        "outputId": "a81ea003-4a7f-4195-a5f1-18e04453d4a6"
      },
      "source": [
        "# now using Support Vector Regression \n",
        "from sklearn.svm import SVR\n",
        "from sklearn.model_selection import GridSearchCV\n",
        "\n",
        "svr = SVR()\n",
        "\n",
        "param_grid = {'C' : [0.1, 1, 10, 100, 1000], \n",
        "              'gamma' : [1, 0.1, 0.01, 0.001, 0.0001],\n",
        "              'kernel' : ['rbf']}\n",
        "\n",
        "grid = GridSearchCV(SVR(), param_grid, refit = True, verbose = 3)\n",
        "grid.fit(X_train, y_train)"
      ],
      "execution_count": null,
      "outputs": [
        {
          "name": "stdout",
          "output_type": "stream",
          "text": [
            "Fitting 5 folds for each of 25 candidates, totalling 125 fits\n",
            "[CV] C=0.1, gamma=1, kernel=rbf ......................................\n",
            "[CV] ......... C=0.1, gamma=1, kernel=rbf, score=-0.006, total=   0.0s\n",
            "[CV] C=0.1, gamma=1, kernel=rbf ......................................\n",
            "[CV] ......... C=0.1, gamma=1, kernel=rbf, score=-0.023, total=   0.0s\n",
            "[CV] C=0.1, gamma=1, kernel=rbf ......................................\n",
            "[CV] ......... C=0.1, gamma=1, kernel=rbf, score=-0.085, total=   0.0s\n",
            "[CV] C=0.1, gamma=1, kernel=rbf ......................................\n",
            "[CV] ......... C=0.1, gamma=1, kernel=rbf, score=-0.009, total=   0.0s\n",
            "[CV] C=0.1, gamma=1, kernel=rbf ......................................\n",
            "[CV] ......... C=0.1, gamma=1, kernel=rbf, score=-0.038, total=   0.0s\n",
            "[CV] C=0.1, gamma=0.1, kernel=rbf ....................................\n",
            "[CV] ....... C=0.1, gamma=0.1, kernel=rbf, score=-0.006, total=   0.0s\n",
            "[CV] C=0.1, gamma=0.1, kernel=rbf ....................................\n",
            "[CV] ....... C=0.1, gamma=0.1, kernel=rbf, score=-0.023, total=   0.0s\n",
            "[CV] C=0.1, gamma=0.1, kernel=rbf ....................................\n",
            "[CV] ....... C=0.1, gamma=0.1, kernel=rbf, score=-0.085, total=   0.0s\n",
            "[CV] C=0.1, gamma=0.1, kernel=rbf ....................................\n",
            "[CV] ....... C=0.1, gamma=0.1, kernel=rbf, score=-0.009, total=   0.0s\n",
            "[CV] C=0.1, gamma=0.1, kernel=rbf ....................................\n",
            "[CV] ....... C=0.1, gamma=0.1, kernel=rbf, score=-0.038, total=   0.0s\n",
            "[CV] C=0.1, gamma=0.01, kernel=rbf ...................................\n",
            "[CV] ...... C=0.1, gamma=0.01, kernel=rbf, score=-0.006, total=   0.0s\n",
            "[CV] C=0.1, gamma=0.01, kernel=rbf ...................................\n"
          ]
        },
        {
          "name": "stderr",
          "output_type": "stream",
          "text": [
            "[Parallel(n_jobs=1)]: Using backend SequentialBackend with 1 concurrent workers.\n",
            "[Parallel(n_jobs=1)]: Done   1 out of   1 | elapsed:    0.0s remaining:    0.0s\n",
            "[Parallel(n_jobs=1)]: Done   2 out of   2 | elapsed:    0.0s remaining:    0.0s\n"
          ]
        },
        {
          "name": "stdout",
          "output_type": "stream",
          "text": [
            "[CV] ...... C=0.1, gamma=0.01, kernel=rbf, score=-0.023, total=   0.0s\n",
            "[CV] C=0.1, gamma=0.01, kernel=rbf ...................................\n",
            "[CV] ...... C=0.1, gamma=0.01, kernel=rbf, score=-0.085, total=   0.0s\n",
            "[CV] C=0.1, gamma=0.01, kernel=rbf ...................................\n",
            "[CV] ...... C=0.1, gamma=0.01, kernel=rbf, score=-0.009, total=   0.0s\n",
            "[CV] C=0.1, gamma=0.01, kernel=rbf ...................................\n",
            "[CV] ...... C=0.1, gamma=0.01, kernel=rbf, score=-0.038, total=   0.0s\n",
            "[CV] C=0.1, gamma=0.001, kernel=rbf ..................................\n",
            "[CV] ..... C=0.1, gamma=0.001, kernel=rbf, score=-0.005, total=   0.0s\n",
            "[CV] C=0.1, gamma=0.001, kernel=rbf ..................................\n",
            "[CV] ..... C=0.1, gamma=0.001, kernel=rbf, score=-0.023, total=   0.0s\n",
            "[CV] C=0.1, gamma=0.001, kernel=rbf ..................................\n",
            "[CV] ..... C=0.1, gamma=0.001, kernel=rbf, score=-0.084, total=   0.0s\n",
            "[CV] C=0.1, gamma=0.001, kernel=rbf ..................................\n",
            "[CV] ..... C=0.1, gamma=0.001, kernel=rbf, score=-0.009, total=   0.0s\n",
            "[CV] C=0.1, gamma=0.001, kernel=rbf ..................................\n",
            "[CV] ..... C=0.1, gamma=0.001, kernel=rbf, score=-0.037, total=   0.0s\n",
            "[CV] C=0.1, gamma=0.0001, kernel=rbf .................................\n",
            "[CV] ..... C=0.1, gamma=0.0001, kernel=rbf, score=0.012, total=   0.0s\n",
            "[CV] C=0.1, gamma=0.0001, kernel=rbf .................................\n",
            "[CV] .... C=0.1, gamma=0.0001, kernel=rbf, score=-0.007, total=   0.0s\n",
            "[CV] C=0.1, gamma=0.0001, kernel=rbf .................................\n",
            "[CV] .... C=0.1, gamma=0.0001, kernel=rbf, score=-0.058, total=   0.0s\n",
            "[CV] C=0.1, gamma=0.0001, kernel=rbf .................................\n",
            "[CV] ..... C=0.1, gamma=0.0001, kernel=rbf, score=0.004, total=   0.0s\n",
            "[CV] C=0.1, gamma=0.0001, kernel=rbf .................................\n",
            "[CV] .... C=0.1, gamma=0.0001, kernel=rbf, score=-0.021, total=   0.0s\n",
            "[CV] C=1, gamma=1, kernel=rbf ........................................\n",
            "[CV] ........... C=1, gamma=1, kernel=rbf, score=-0.000, total=   0.0s\n",
            "[CV] C=1, gamma=1, kernel=rbf ........................................\n",
            "[CV] ........... C=1, gamma=1, kernel=rbf, score=-0.031, total=   0.0s\n",
            "[CV] C=1, gamma=1, kernel=rbf ........................................\n",
            "[CV] ........... C=1, gamma=1, kernel=rbf, score=-0.044, total=   0.0s\n",
            "[CV] C=1, gamma=1, kernel=rbf ........................................\n",
            "[CV] ........... C=1, gamma=1, kernel=rbf, score=-0.001, total=   0.0s\n",
            "[CV] C=1, gamma=1, kernel=rbf ........................................\n",
            "[CV] ........... C=1, gamma=1, kernel=rbf, score=-0.017, total=   0.0s\n",
            "[CV] C=1, gamma=0.1, kernel=rbf ......................................\n",
            "[CV] ......... C=1, gamma=0.1, kernel=rbf, score=-0.000, total=   0.0s\n",
            "[CV] C=1, gamma=0.1, kernel=rbf ......................................\n",
            "[CV] ......... C=1, gamma=0.1, kernel=rbf, score=-0.031, total=   0.0s\n",
            "[CV] C=1, gamma=0.1, kernel=rbf ......................................\n",
            "[CV] ......... C=1, gamma=0.1, kernel=rbf, score=-0.044, total=   0.0s\n",
            "[CV] C=1, gamma=0.1, kernel=rbf ......................................\n",
            "[CV] ......... C=1, gamma=0.1, kernel=rbf, score=-0.001, total=   0.0s\n",
            "[CV] C=1, gamma=0.1, kernel=rbf ......................................\n",
            "[CV] ......... C=1, gamma=0.1, kernel=rbf, score=-0.017, total=   0.0s\n",
            "[CV] C=1, gamma=0.01, kernel=rbf .....................................\n",
            "[CV] ........ C=1, gamma=0.01, kernel=rbf, score=-0.000, total=   0.0s\n",
            "[CV] C=1, gamma=0.01, kernel=rbf .....................................\n",
            "[CV] ........ C=1, gamma=0.01, kernel=rbf, score=-0.031, total=   0.0s\n",
            "[CV] C=1, gamma=0.01, kernel=rbf .....................................\n",
            "[CV] ........ C=1, gamma=0.01, kernel=rbf, score=-0.044, total=   0.0s\n",
            "[CV] C=1, gamma=0.01, kernel=rbf .....................................\n",
            "[CV] ........ C=1, gamma=0.01, kernel=rbf, score=-0.001, total=   0.0s\n",
            "[CV] C=1, gamma=0.01, kernel=rbf .....................................\n",
            "[CV] ........ C=1, gamma=0.01, kernel=rbf, score=-0.017, total=   0.0s\n",
            "[CV] C=1, gamma=0.001, kernel=rbf ....................................\n",
            "[CV] ........ C=1, gamma=0.001, kernel=rbf, score=0.006, total=   0.0s\n",
            "[CV] C=1, gamma=0.001, kernel=rbf ....................................\n",
            "[CV] ....... C=1, gamma=0.001, kernel=rbf, score=-0.028, total=   0.0s\n",
            "[CV] C=1, gamma=0.001, kernel=rbf ....................................\n",
            "[CV] ....... C=1, gamma=0.001, kernel=rbf, score=-0.037, total=   0.0s\n",
            "[CV] C=1, gamma=0.001, kernel=rbf ....................................\n",
            "[CV] ........ C=1, gamma=0.001, kernel=rbf, score=0.001, total=   0.0s\n",
            "[CV] C=1, gamma=0.001, kernel=rbf ....................................\n",
            "[CV] ....... C=1, gamma=0.001, kernel=rbf, score=-0.010, total=   0.0s\n",
            "[CV] C=1, gamma=0.0001, kernel=rbf ...................................\n",
            "[CV] ....... C=1, gamma=0.0001, kernel=rbf, score=0.105, total=   0.0s\n",
            "[CV] C=1, gamma=0.0001, kernel=rbf ...................................\n",
            "[CV] ....... C=1, gamma=0.0001, kernel=rbf, score=0.053, total=   0.0s\n",
            "[CV] C=1, gamma=0.0001, kernel=rbf ...................................\n",
            "[CV] ....... C=1, gamma=0.0001, kernel=rbf, score=0.093, total=   0.0s\n",
            "[CV] C=1, gamma=0.0001, kernel=rbf ...................................\n",
            "[CV] ....... C=1, gamma=0.0001, kernel=rbf, score=0.083, total=   0.0s\n",
            "[CV] C=1, gamma=0.0001, kernel=rbf ...................................\n",
            "[CV] ....... C=1, gamma=0.0001, kernel=rbf, score=0.098, total=   0.0s\n",
            "[CV] C=10, gamma=1, kernel=rbf .......................................\n",
            "[CV] .......... C=10, gamma=1, kernel=rbf, score=-0.003, total=   0.0s\n",
            "[CV] C=10, gamma=1, kernel=rbf .......................................\n",
            "[CV] .......... C=10, gamma=1, kernel=rbf, score=-0.039, total=   0.0s\n",
            "[CV] C=10, gamma=1, kernel=rbf .......................................\n",
            "[CV] .......... C=10, gamma=1, kernel=rbf, score=-0.028, total=   0.0s\n",
            "[CV] C=10, gamma=1, kernel=rbf .......................................\n",
            "[CV] .......... C=10, gamma=1, kernel=rbf, score=-0.000, total=   0.0s\n",
            "[CV] C=10, gamma=1, kernel=rbf .......................................\n",
            "[CV] .......... C=10, gamma=1, kernel=rbf, score=-0.011, total=   0.0s\n",
            "[CV] C=10, gamma=0.1, kernel=rbf .....................................\n",
            "[CV] ........ C=10, gamma=0.1, kernel=rbf, score=-0.003, total=   0.0s\n",
            "[CV] C=10, gamma=0.1, kernel=rbf .....................................\n",
            "[CV] ........ C=10, gamma=0.1, kernel=rbf, score=-0.039, total=   0.0s\n",
            "[CV] C=10, gamma=0.1, kernel=rbf .....................................\n",
            "[CV] ........ C=10, gamma=0.1, kernel=rbf, score=-0.028, total=   0.0s\n",
            "[CV] C=10, gamma=0.1, kernel=rbf .....................................\n",
            "[CV] ........ C=10, gamma=0.1, kernel=rbf, score=-0.000, total=   0.0s\n",
            "[CV] C=10, gamma=0.1, kernel=rbf .....................................\n",
            "[CV] ........ C=10, gamma=0.1, kernel=rbf, score=-0.011, total=   0.0s\n",
            "[CV] C=10, gamma=0.01, kernel=rbf ....................................\n",
            "[CV] ....... C=10, gamma=0.01, kernel=rbf, score=-0.003, total=   0.0s\n",
            "[CV] C=10, gamma=0.01, kernel=rbf ....................................\n",
            "[CV] ....... C=10, gamma=0.01, kernel=rbf, score=-0.039, total=   0.0s\n",
            "[CV] C=10, gamma=0.01, kernel=rbf ....................................\n",
            "[CV] ....... C=10, gamma=0.01, kernel=rbf, score=-0.028, total=   0.0s\n",
            "[CV] C=10, gamma=0.01, kernel=rbf ....................................\n",
            "[CV] ....... C=10, gamma=0.01, kernel=rbf, score=-0.000, total=   0.0s\n",
            "[CV] C=10, gamma=0.01, kernel=rbf ....................................\n",
            "[CV] ....... C=10, gamma=0.01, kernel=rbf, score=-0.011, total=   0.0s\n",
            "[CV] C=10, gamma=0.001, kernel=rbf ...................................\n",
            "[CV] ....... C=10, gamma=0.001, kernel=rbf, score=0.008, total=   0.0s\n",
            "[CV] C=10, gamma=0.001, kernel=rbf ...................................\n",
            "[CV] ...... C=10, gamma=0.001, kernel=rbf, score=-0.034, total=   0.0s\n",
            "[CV] C=10, gamma=0.001, kernel=rbf ...................................\n",
            "[CV] ...... C=10, gamma=0.001, kernel=rbf, score=-0.016, total=   0.0s\n",
            "[CV] C=10, gamma=0.001, kernel=rbf ...................................\n",
            "[CV] ....... C=10, gamma=0.001, kernel=rbf, score=0.003, total=   0.0s\n",
            "[CV] C=10, gamma=0.001, kernel=rbf ...................................\n",
            "[CV] ....... C=10, gamma=0.001, kernel=rbf, score=0.000, total=   0.0s\n",
            "[CV] C=10, gamma=0.0001, kernel=rbf ..................................\n",
            "[CV] ...... C=10, gamma=0.0001, kernel=rbf, score=0.144, total=   0.0s\n",
            "[CV] C=10, gamma=0.0001, kernel=rbf ..................................\n"
          ]
        },
        {
          "name": "stdout",
          "output_type": "stream",
          "text": [
            "[CV] ...... C=10, gamma=0.0001, kernel=rbf, score=0.087, total=   0.0s\n",
            "[CV] C=10, gamma=0.0001, kernel=rbf ..................................\n",
            "[CV] ...... C=10, gamma=0.0001, kernel=rbf, score=0.191, total=   0.0s\n",
            "[CV] C=10, gamma=0.0001, kernel=rbf ..................................\n",
            "[CV] ...... C=10, gamma=0.0001, kernel=rbf, score=0.162, total=   0.0s\n",
            "[CV] C=10, gamma=0.0001, kernel=rbf ..................................\n",
            "[CV] ...... C=10, gamma=0.0001, kernel=rbf, score=0.184, total=   0.0s\n",
            "[CV] C=100, gamma=1, kernel=rbf ......................................\n",
            "[CV] ......... C=100, gamma=1, kernel=rbf, score=-0.003, total=   0.0s\n",
            "[CV] C=100, gamma=1, kernel=rbf ......................................\n",
            "[CV] ......... C=100, gamma=1, kernel=rbf, score=-0.039, total=   0.0s\n",
            "[CV] C=100, gamma=1, kernel=rbf ......................................\n",
            "[CV] ......... C=100, gamma=1, kernel=rbf, score=-0.028, total=   0.0s\n",
            "[CV] C=100, gamma=1, kernel=rbf ......................................\n",
            "[CV] ......... C=100, gamma=1, kernel=rbf, score=-0.000, total=   0.0s\n",
            "[CV] C=100, gamma=1, kernel=rbf ......................................\n",
            "[CV] ......... C=100, gamma=1, kernel=rbf, score=-0.011, total=   0.0s\n",
            "[CV] C=100, gamma=0.1, kernel=rbf ....................................\n",
            "[CV] ....... C=100, gamma=0.1, kernel=rbf, score=-0.003, total=   0.0s\n",
            "[CV] C=100, gamma=0.1, kernel=rbf ....................................\n",
            "[CV] ....... C=100, gamma=0.1, kernel=rbf, score=-0.039, total=   0.0s\n",
            "[CV] C=100, gamma=0.1, kernel=rbf ....................................\n",
            "[CV] ....... C=100, gamma=0.1, kernel=rbf, score=-0.028, total=   0.0s\n",
            "[CV] C=100, gamma=0.1, kernel=rbf ....................................\n",
            "[CV] ....... C=100, gamma=0.1, kernel=rbf, score=-0.000, total=   0.0s\n",
            "[CV] C=100, gamma=0.1, kernel=rbf ....................................\n",
            "[CV] ....... C=100, gamma=0.1, kernel=rbf, score=-0.011, total=   0.0s\n",
            "[CV] C=100, gamma=0.01, kernel=rbf ...................................\n",
            "[CV] ...... C=100, gamma=0.01, kernel=rbf, score=-0.003, total=   0.0s\n",
            "[CV] C=100, gamma=0.01, kernel=rbf ...................................\n",
            "[CV] ...... C=100, gamma=0.01, kernel=rbf, score=-0.039, total=   0.0s\n",
            "[CV] C=100, gamma=0.01, kernel=rbf ...................................\n",
            "[CV] ...... C=100, gamma=0.01, kernel=rbf, score=-0.028, total=   0.0s\n",
            "[CV] C=100, gamma=0.01, kernel=rbf ...................................\n",
            "[CV] ...... C=100, gamma=0.01, kernel=rbf, score=-0.000, total=   0.0s\n",
            "[CV] C=100, gamma=0.01, kernel=rbf ...................................\n",
            "[CV] ...... C=100, gamma=0.01, kernel=rbf, score=-0.011, total=   0.0s\n",
            "[CV] C=100, gamma=0.001, kernel=rbf ..................................\n",
            "[CV] ...... C=100, gamma=0.001, kernel=rbf, score=0.008, total=   0.0s\n",
            "[CV] C=100, gamma=0.001, kernel=rbf ..................................\n",
            "[CV] ..... C=100, gamma=0.001, kernel=rbf, score=-0.034, total=   0.0s\n",
            "[CV] C=100, gamma=0.001, kernel=rbf ..................................\n",
            "[CV] ..... C=100, gamma=0.001, kernel=rbf, score=-0.016, total=   0.0s\n",
            "[CV] C=100, gamma=0.001, kernel=rbf ..................................\n",
            "[CV] ...... C=100, gamma=0.001, kernel=rbf, score=0.003, total=   0.0s\n",
            "[CV] C=100, gamma=0.001, kernel=rbf ..................................\n",
            "[CV] ...... C=100, gamma=0.001, kernel=rbf, score=0.000, total=   0.0s\n",
            "[CV] C=100, gamma=0.0001, kernel=rbf .................................\n",
            "[CV] ..... C=100, gamma=0.0001, kernel=rbf, score=0.144, total=   0.0s\n",
            "[CV] C=100, gamma=0.0001, kernel=rbf .................................\n",
            "[CV] ..... C=100, gamma=0.0001, kernel=rbf, score=0.087, total=   0.0s\n",
            "[CV] C=100, gamma=0.0001, kernel=rbf .................................\n",
            "[CV] ..... C=100, gamma=0.0001, kernel=rbf, score=0.191, total=   0.0s\n",
            "[CV] C=100, gamma=0.0001, kernel=rbf .................................\n",
            "[CV] ..... C=100, gamma=0.0001, kernel=rbf, score=0.162, total=   0.0s\n",
            "[CV] C=100, gamma=0.0001, kernel=rbf .................................\n",
            "[CV] ..... C=100, gamma=0.0001, kernel=rbf, score=0.184, total=   0.0s\n",
            "[CV] C=1000, gamma=1, kernel=rbf .....................................\n",
            "[CV] ........ C=1000, gamma=1, kernel=rbf, score=-0.003, total=   0.0s\n",
            "[CV] C=1000, gamma=1, kernel=rbf .....................................\n",
            "[CV] ........ C=1000, gamma=1, kernel=rbf, score=-0.039, total=   0.0s\n",
            "[CV] C=1000, gamma=1, kernel=rbf .....................................\n",
            "[CV] ........ C=1000, gamma=1, kernel=rbf, score=-0.028, total=   0.0s\n",
            "[CV] C=1000, gamma=1, kernel=rbf .....................................\n",
            "[CV] ........ C=1000, gamma=1, kernel=rbf, score=-0.000, total=   0.0s\n",
            "[CV] C=1000, gamma=1, kernel=rbf .....................................\n",
            "[CV] ........ C=1000, gamma=1, kernel=rbf, score=-0.011, total=   0.0s\n",
            "[CV] C=1000, gamma=0.1, kernel=rbf ...................................\n",
            "[CV] ...... C=1000, gamma=0.1, kernel=rbf, score=-0.003, total=   0.0s\n",
            "[CV] C=1000, gamma=0.1, kernel=rbf ...................................\n",
            "[CV] ...... C=1000, gamma=0.1, kernel=rbf, score=-0.039, total=   0.0s\n",
            "[CV] C=1000, gamma=0.1, kernel=rbf ...................................\n",
            "[CV] ...... C=1000, gamma=0.1, kernel=rbf, score=-0.028, total=   0.0s\n",
            "[CV] C=1000, gamma=0.1, kernel=rbf ...................................\n",
            "[CV] ...... C=1000, gamma=0.1, kernel=rbf, score=-0.000, total=   0.0s\n",
            "[CV] C=1000, gamma=0.1, kernel=rbf ...................................\n",
            "[CV] ...... C=1000, gamma=0.1, kernel=rbf, score=-0.011, total=   0.0s\n",
            "[CV] C=1000, gamma=0.01, kernel=rbf ..................................\n",
            "[CV] ..... C=1000, gamma=0.01, kernel=rbf, score=-0.003, total=   0.0s\n",
            "[CV] C=1000, gamma=0.01, kernel=rbf ..................................\n",
            "[CV] ..... C=1000, gamma=0.01, kernel=rbf, score=-0.039, total=   0.0s\n",
            "[CV] C=1000, gamma=0.01, kernel=rbf ..................................\n",
            "[CV] ..... C=1000, gamma=0.01, kernel=rbf, score=-0.028, total=   0.0s\n",
            "[CV] C=1000, gamma=0.01, kernel=rbf ..................................\n",
            "[CV] ..... C=1000, gamma=0.01, kernel=rbf, score=-0.000, total=   0.0s\n",
            "[CV] C=1000, gamma=0.01, kernel=rbf ..................................\n",
            "[CV] ..... C=1000, gamma=0.01, kernel=rbf, score=-0.011, total=   0.0s\n",
            "[CV] C=1000, gamma=0.001, kernel=rbf .................................\n",
            "[CV] ..... C=1000, gamma=0.001, kernel=rbf, score=0.008, total=   0.0s\n",
            "[CV] C=1000, gamma=0.001, kernel=rbf .................................\n",
            "[CV] .... C=1000, gamma=0.001, kernel=rbf, score=-0.034, total=   0.0s\n",
            "[CV] C=1000, gamma=0.001, kernel=rbf .................................\n",
            "[CV] .... C=1000, gamma=0.001, kernel=rbf, score=-0.016, total=   0.0s\n",
            "[CV] C=1000, gamma=0.001, kernel=rbf .................................\n",
            "[CV] ..... C=1000, gamma=0.001, kernel=rbf, score=0.003, total=   0.0s\n",
            "[CV] C=1000, gamma=0.001, kernel=rbf .................................\n",
            "[CV] ..... C=1000, gamma=0.001, kernel=rbf, score=0.000, total=   0.0s\n",
            "[CV] C=1000, gamma=0.0001, kernel=rbf ................................\n",
            "[CV] .... C=1000, gamma=0.0001, kernel=rbf, score=0.144, total=   0.0s\n",
            "[CV] C=1000, gamma=0.0001, kernel=rbf ................................\n",
            "[CV] .... C=1000, gamma=0.0001, kernel=rbf, score=0.087, total=   0.0s\n",
            "[CV] C=1000, gamma=0.0001, kernel=rbf ................................\n",
            "[CV] .... C=1000, gamma=0.0001, kernel=rbf, score=0.191, total=   0.0s\n",
            "[CV] C=1000, gamma=0.0001, kernel=rbf ................................\n",
            "[CV] .... C=1000, gamma=0.0001, kernel=rbf, score=0.162, total=   0.0s\n",
            "[CV] C=1000, gamma=0.0001, kernel=rbf ................................\n",
            "[CV] .... C=1000, gamma=0.0001, kernel=rbf, score=0.184, total=   0.0s\n"
          ]
        },
        {
          "name": "stderr",
          "output_type": "stream",
          "text": [
            "[Parallel(n_jobs=1)]: Done 125 out of 125 | elapsed:    3.0s finished\n"
          ]
        },
        {
          "data": {
            "text/plain": [
              "GridSearchCV(cv=None, error_score=nan,\n",
              "             estimator=SVR(C=1.0, cache_size=200, coef0=0.0, degree=3,\n",
              "                           epsilon=0.1, gamma='scale', kernel='rbf',\n",
              "                           max_iter=-1, shrinking=True, tol=0.001,\n",
              "                           verbose=False),\n",
              "             iid='deprecated', n_jobs=None,\n",
              "             param_grid={'C': [0.1, 1, 10, 100, 1000],\n",
              "                         'gamma': [1, 0.1, 0.01, 0.001, 0.0001],\n",
              "                         'kernel': ['rbf']},\n",
              "             pre_dispatch='2*n_jobs', refit=True, return_train_score=False,\n",
              "             scoring=None, verbose=3)"
            ]
          },
          "execution_count": 19,
          "metadata": {},
          "output_type": "execute_result"
        }
      ]
    },
    {
      "cell_type": "code",
      "metadata": {
        "id": "v4esSm0IReLz",
        "outputId": "3ee733ad-3566-4855-e5c2-a7539f067a47"
      },
      "source": [
        "# finding the best parameters for the estimation\n",
        "\n",
        "grid.best_estimator_"
      ],
      "execution_count": null,
      "outputs": [
        {
          "data": {
            "text/plain": [
              "SVR(C=10, cache_size=200, coef0=0.0, degree=3, epsilon=0.1, gamma=0.0001,\n",
              "    kernel='rbf', max_iter=-1, shrinking=True, tol=0.001, verbose=False)"
            ]
          },
          "execution_count": 20,
          "metadata": {},
          "output_type": "execute_result"
        }
      ]
    },
    {
      "cell_type": "code",
      "metadata": {
        "id": "CdPBzI7cReLz"
      },
      "source": [
        "# calling svr with the best params \n",
        "svr = SVR(C = 10, gamma = 0.0001, kernel = 'rbf')\n",
        "svr.fit(X_train, y_train)\n",
        "svr_prediction = svr.predict(X_test)"
      ],
      "execution_count": null,
      "outputs": []
    },
    {
      "cell_type": "code",
      "metadata": {
        "id": "p_SkbVjVReL0",
        "outputId": "d6620c7a-63d9-429f-802e-62142e731446"
      },
      "source": [
        "svr_prediction"
      ],
      "execution_count": null,
      "outputs": [
        {
          "data": {
            "text/plain": [
              "array([10.13044259, 11.24832467, 10.70624926, 10.08472176, 10.30870215,\n",
              "       10.25097252, 10.10788458, 11.9122709 , 10.2527985 , 11.23288669,\n",
              "       11.66189492, 10.34087055, 11.3790799 , 10.24737933, 10.93958395,\n",
              "       10.04422416, 10.86889783,  9.91842988,  8.8232462 , 11.23517092,\n",
              "       12.4520929 , 10.3741452 , 10.22489756,  9.63799004, 10.92851731,\n",
              "       10.25279851, 10.49286321, 11.11323455, 10.1932227 , 10.25279852,\n",
              "       10.25277375, 10.52663863, 10.26041116, 10.11620605, 10.20005319,\n",
              "       10.2527984 , 10.25205021, 11.26217182, 10.4107341 , 10.4372675 ,\n",
              "        9.97119315, 10.11383044,  9.82222807,  9.85046634, 10.52492352,\n",
              "       10.10527926, 10.25118267, 11.48392304,  9.97192061, 10.28354864,\n",
              "       10.30259738, 10.24088416,  9.98697153, 10.92357854, 10.25279851,\n",
              "       10.24062606, 10.23529659, 10.21842839,  8.52099081,  9.94574226,\n",
              "       10.20839608,  9.69199881, 10.25279851, 10.71948746,  9.95101367,\n",
              "       10.25279851,  9.68805381, 11.39548423, 10.14985276,  9.92552299,\n",
              "       10.25292206, 10.25279831,  9.87437715, 10.09145571, 10.70817743,\n",
              "        9.88553985, 10.40935709,  8.98273196, 10.24892747, 11.20061991,\n",
              "       10.25279839, 10.25279851, 10.25279851, 10.52299854,  9.8344667 ,\n",
              "       10.26396275, 12.3605354 , 11.20570039, 10.25271695, 10.25388914,\n",
              "       10.79154493, 10.24649962, 10.25279851, 10.9495864 , 10.25279852,\n",
              "       10.87418975,  9.72544435, 10.25279841, 10.24403112, 10.03720365,\n",
              "       10.69288008, 10.19678969, 11.25924998, 10.28908808, 10.25279859,\n",
              "       11.0622008 ,  9.75886149, 12.03292161, 12.41832951, 11.34400098,\n",
              "       10.25113988, 10.24075015, 10.25490893, 10.23978444, 11.03230355,\n",
              "       11.11300505, 10.16006541, 10.2919561 , 10.2529226 , 11.33614811,\n",
              "       12.03541205, 10.04417217, 10.12851325, 10.87033313, 10.18756237,\n",
              "       10.25238399,  9.99666813, 11.14659655,  9.88831518, 10.35038138,\n",
              "       10.25514272,  9.85101144, 12.23971123, 11.56486092, 10.51578658,\n",
              "       10.62024564, 10.29219908, 10.25275627, 10.23922005,  9.88188441,\n",
              "       10.25271246,  9.35562585, 11.02927996, 10.25266747, 10.26123184,\n",
              "       10.25279918, 10.74128024, 11.13794465, 10.24319879, 10.25279851,\n",
              "       10.47753181, 10.12227882, 10.20503727, 11.51864113, 10.24406995,\n",
              "       13.38429619,  9.32498088, 10.24401766, 10.13252894, 10.45377936,\n",
              "       10.78708344,  9.4421621 , 10.1962115 , 11.46020658,  9.9946971 ,\n",
              "       10.11890633,  8.9849198 , 10.2831077 , 10.25279821, 11.47018436,\n",
              "       10.25280556, 10.08995386,  9.29199764, 10.20075032, 10.25353434,\n",
              "       10.24854442,  9.64271966, 10.2529634 , 11.42397315, 10.25279791,\n",
              "       10.25279851, 10.29751241, 10.08272576, 10.56423817, 10.25760029,\n",
              "        8.85348567, 10.3988135 ,  9.16930582, 10.82727512, 10.25273528,\n",
              "       10.68707756, 10.17142207,  8.7352679 ,  9.9828919 , 10.26948154,\n",
              "        9.77073048, 10.46983369, 10.37047731, 10.24376156, 13.09483304,\n",
              "        9.8285533 , 10.25389874,  9.30406955, 10.48692042, 10.25259568,\n",
              "       12.70508425, 10.25279927, 10.23715875, 10.24307411, 10.04980124,\n",
              "       10.18862174, 10.25279851, 10.53268491, 10.17976294, 10.25279931,\n",
              "        9.90068355, 10.25105064, 10.24165419, 11.48092782,  9.98004613,\n",
              "       10.28142255, 10.52749601, 11.7691412 , 10.24723799, 10.26919552,\n",
              "       10.27895529, 10.25279851,  9.44405167, 10.25279851, 11.63579054,\n",
              "       10.25279851])"
            ]
          },
          "execution_count": 23,
          "metadata": {},
          "output_type": "execute_result"
        }
      ]
    },
    {
      "cell_type": "code",
      "metadata": {
        "id": "oU4NhiG9ReL0",
        "outputId": "3005c919-2039-4450-b485-2815fd7ecf25"
      },
      "source": [
        "((svr_prediction - y_test)/y_test)*100"
      ],
      "execution_count": null,
      "outputs": [
        {
          "data": {
            "text/plain": [
              "Date\n",
              "2020-12-29    14.857630\n",
              "2018-06-11    -6.497715\n",
              "2021-08-19   -15.499217\n",
              "2019-10-21    11.680200\n",
              "2018-03-19    -6.369646\n",
              "                ...    \n",
              "2021-03-18   -17.911940\n",
              "2019-11-26     4.817441\n",
              "2021-03-04   -14.058690\n",
              "2017-09-19    -0.718513\n",
              "2021-03-10   -20.582505\n",
              "Name: F, Length: 231, dtype: float64"
            ]
          },
          "execution_count": 27,
          "metadata": {},
          "output_type": "execute_result"
        }
      ]
    },
    {
      "cell_type": "code",
      "metadata": {
        "id": "4JWN6Ds-ReL0"
      },
      "source": [
        ""
      ],
      "execution_count": null,
      "outputs": []
    }
  ]
}
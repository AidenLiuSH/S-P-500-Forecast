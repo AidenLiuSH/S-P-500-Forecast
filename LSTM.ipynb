{
  "nbformat": 4,
  "nbformat_minor": 0,
  "metadata": {
    "colab": {
      "name": "LSTM.ipynb",
      "provenance": [],
      "authorship_tag": "ABX9TyOIxNjbouSOkVPoAFU3TJY3",
      "include_colab_link": true
    },
    "kernelspec": {
      "name": "python3",
      "display_name": "Python 3"
    },
    "language_info": {
      "name": "python"
    }
  },
  "cells": [
    {
      "cell_type": "markdown",
      "metadata": {
        "id": "view-in-github",
        "colab_type": "text"
      },
      "source": [
        "<a href=\"https://colab.research.google.com/github/AidenLiuSH/S-P-500-Forecast/blob/main/LSTM.ipynb\" target=\"_parent\"><img src=\"https://colab.research.google.com/assets/colab-badge.svg\" alt=\"Open In Colab\"/></a>"
      ]
    },
    {
      "cell_type": "code",
      "metadata": {
        "id": "R1VGGNOSYKyV"
      },
      "source": [
        "#S&P 500 closing price prediction using Long Short Term Memory"
      ],
      "execution_count": 73,
      "outputs": []
    },
    {
      "cell_type": "code",
      "metadata": {
        "colab": {
          "base_uri": "https://localhost:8080/"
        },
        "id": "UjUl1CeDYwKM",
        "outputId": "23d8bdc9-7bec-4422-d858-32927526ddc2"
      },
      "source": [
        "!pip install yfinance"
      ],
      "execution_count": 74,
      "outputs": [
        {
          "output_type": "stream",
          "name": "stdout",
          "text": [
            "Requirement already satisfied: yfinance in /usr/local/lib/python3.7/dist-packages (0.1.67)\n",
            "Requirement already satisfied: lxml>=4.5.1 in /usr/local/lib/python3.7/dist-packages (from yfinance) (4.6.4)\n",
            "Requirement already satisfied: requests>=2.20 in /usr/local/lib/python3.7/dist-packages (from yfinance) (2.23.0)\n",
            "Requirement already satisfied: numpy>=1.15 in /usr/local/lib/python3.7/dist-packages (from yfinance) (1.19.5)\n",
            "Requirement already satisfied: pandas>=0.24 in /usr/local/lib/python3.7/dist-packages (from yfinance) (1.1.5)\n",
            "Requirement already satisfied: multitasking>=0.0.7 in /usr/local/lib/python3.7/dist-packages (from yfinance) (0.0.10)\n",
            "Requirement already satisfied: python-dateutil>=2.7.3 in /usr/local/lib/python3.7/dist-packages (from pandas>=0.24->yfinance) (2.8.2)\n",
            "Requirement already satisfied: pytz>=2017.2 in /usr/local/lib/python3.7/dist-packages (from pandas>=0.24->yfinance) (2018.9)\n",
            "Requirement already satisfied: six>=1.5 in /usr/local/lib/python3.7/dist-packages (from python-dateutil>=2.7.3->pandas>=0.24->yfinance) (1.15.0)\n",
            "Requirement already satisfied: chardet<4,>=3.0.2 in /usr/local/lib/python3.7/dist-packages (from requests>=2.20->yfinance) (3.0.4)\n",
            "Requirement already satisfied: idna<3,>=2.5 in /usr/local/lib/python3.7/dist-packages (from requests>=2.20->yfinance) (2.10)\n",
            "Requirement already satisfied: urllib3!=1.25.0,!=1.25.1,<1.26,>=1.21.1 in /usr/local/lib/python3.7/dist-packages (from requests>=2.20->yfinance) (1.24.3)\n",
            "Requirement already satisfied: certifi>=2017.4.17 in /usr/local/lib/python3.7/dist-packages (from requests>=2.20->yfinance) (2021.10.8)\n"
          ]
        }
      ]
    },
    {
      "cell_type": "code",
      "metadata": {
        "id": "5i8X9cayYVck"
      },
      "source": [
        "#import libraries\n",
        "import yfinance as yf\n",
        "import math\n",
        "import pandas_datareader as web\n",
        "import numpy as np\n",
        "import pandas as pd\n",
        "from sklearn.preprocessing import MinMaxScaler\n",
        "from keras.models import Sequential\n",
        "from keras.layers import Dense, LSTM\n",
        "import matplotlib.pyplot as plt\n",
        "plt.style.use('fivethirtyeight')"
      ],
      "execution_count": 75,
      "outputs": []
    },
    {
      "cell_type": "code",
      "metadata": {
        "colab": {
          "base_uri": "https://localhost:8080/",
          "height": 472
        },
        "id": "DOo5DgsMZZaz",
        "outputId": "d63849cc-e54a-47b0-dbc2-0ef50b4b053b"
      },
      "source": [
        "#import S&P 500 historical data from 2012-01-01 to 2019-12-17\n",
        "df = yf.download('^GSPC', start='2012-01-01', end='2019-12-17')\n",
        "df"
      ],
      "execution_count": 76,
      "outputs": [
        {
          "output_type": "stream",
          "name": "stdout",
          "text": [
            "\r[*********************100%***********************]  1 of 1 completed\n"
          ]
        },
        {
          "output_type": "execute_result",
          "data": {
            "text/html": [
              "<div>\n",
              "<style scoped>\n",
              "    .dataframe tbody tr th:only-of-type {\n",
              "        vertical-align: middle;\n",
              "    }\n",
              "\n",
              "    .dataframe tbody tr th {\n",
              "        vertical-align: top;\n",
              "    }\n",
              "\n",
              "    .dataframe thead th {\n",
              "        text-align: right;\n",
              "    }\n",
              "</style>\n",
              "<table border=\"1\" class=\"dataframe\">\n",
              "  <thead>\n",
              "    <tr style=\"text-align: right;\">\n",
              "      <th></th>\n",
              "      <th>Open</th>\n",
              "      <th>High</th>\n",
              "      <th>Low</th>\n",
              "      <th>Close</th>\n",
              "      <th>Adj Close</th>\n",
              "      <th>Volume</th>\n",
              "    </tr>\n",
              "    <tr>\n",
              "      <th>Date</th>\n",
              "      <th></th>\n",
              "      <th></th>\n",
              "      <th></th>\n",
              "      <th></th>\n",
              "      <th></th>\n",
              "      <th></th>\n",
              "    </tr>\n",
              "  </thead>\n",
              "  <tbody>\n",
              "    <tr>\n",
              "      <th>2012-01-03</th>\n",
              "      <td>1258.859985</td>\n",
              "      <td>1284.619995</td>\n",
              "      <td>1258.859985</td>\n",
              "      <td>1277.060059</td>\n",
              "      <td>1277.060059</td>\n",
              "      <td>3943710000</td>\n",
              "    </tr>\n",
              "    <tr>\n",
              "      <th>2012-01-04</th>\n",
              "      <td>1277.030029</td>\n",
              "      <td>1278.729980</td>\n",
              "      <td>1268.099976</td>\n",
              "      <td>1277.300049</td>\n",
              "      <td>1277.300049</td>\n",
              "      <td>3592580000</td>\n",
              "    </tr>\n",
              "    <tr>\n",
              "      <th>2012-01-05</th>\n",
              "      <td>1277.300049</td>\n",
              "      <td>1283.050049</td>\n",
              "      <td>1265.260010</td>\n",
              "      <td>1281.060059</td>\n",
              "      <td>1281.060059</td>\n",
              "      <td>4315950000</td>\n",
              "    </tr>\n",
              "    <tr>\n",
              "      <th>2012-01-06</th>\n",
              "      <td>1280.930054</td>\n",
              "      <td>1281.839966</td>\n",
              "      <td>1273.339966</td>\n",
              "      <td>1277.810059</td>\n",
              "      <td>1277.810059</td>\n",
              "      <td>3656830000</td>\n",
              "    </tr>\n",
              "    <tr>\n",
              "      <th>2012-01-09</th>\n",
              "      <td>1277.829956</td>\n",
              "      <td>1281.989990</td>\n",
              "      <td>1274.550049</td>\n",
              "      <td>1280.699951</td>\n",
              "      <td>1280.699951</td>\n",
              "      <td>3371600000</td>\n",
              "    </tr>\n",
              "    <tr>\n",
              "      <th>...</th>\n",
              "      <td>...</td>\n",
              "      <td>...</td>\n",
              "      <td>...</td>\n",
              "      <td>...</td>\n",
              "      <td>...</td>\n",
              "      <td>...</td>\n",
              "    </tr>\n",
              "    <tr>\n",
              "      <th>2019-12-10</th>\n",
              "      <td>3135.360107</td>\n",
              "      <td>3142.120117</td>\n",
              "      <td>3126.090088</td>\n",
              "      <td>3132.520020</td>\n",
              "      <td>3132.520020</td>\n",
              "      <td>3343790000</td>\n",
              "    </tr>\n",
              "    <tr>\n",
              "      <th>2019-12-11</th>\n",
              "      <td>3135.750000</td>\n",
              "      <td>3143.979980</td>\n",
              "      <td>3133.209961</td>\n",
              "      <td>3141.629883</td>\n",
              "      <td>3141.629883</td>\n",
              "      <td>3252540000</td>\n",
              "    </tr>\n",
              "    <tr>\n",
              "      <th>2019-12-12</th>\n",
              "      <td>3141.229980</td>\n",
              "      <td>3176.280029</td>\n",
              "      <td>3138.469971</td>\n",
              "      <td>3168.570068</td>\n",
              "      <td>3168.570068</td>\n",
              "      <td>3990690000</td>\n",
              "    </tr>\n",
              "    <tr>\n",
              "      <th>2019-12-13</th>\n",
              "      <td>3166.649902</td>\n",
              "      <td>3182.679932</td>\n",
              "      <td>3156.510010</td>\n",
              "      <td>3168.800049</td>\n",
              "      <td>3168.800049</td>\n",
              "      <td>3736870000</td>\n",
              "    </tr>\n",
              "    <tr>\n",
              "      <th>2019-12-16</th>\n",
              "      <td>3183.629883</td>\n",
              "      <td>3197.709961</td>\n",
              "      <td>3183.629883</td>\n",
              "      <td>3191.449951</td>\n",
              "      <td>3191.449951</td>\n",
              "      <td>4051790000</td>\n",
              "    </tr>\n",
              "  </tbody>\n",
              "</table>\n",
              "<p>2002 rows × 6 columns</p>\n",
              "</div>"
            ],
            "text/plain": [
              "                   Open         High  ...    Adj Close      Volume\n",
              "Date                                  ...                         \n",
              "2012-01-03  1258.859985  1284.619995  ...  1277.060059  3943710000\n",
              "2012-01-04  1277.030029  1278.729980  ...  1277.300049  3592580000\n",
              "2012-01-05  1277.300049  1283.050049  ...  1281.060059  4315950000\n",
              "2012-01-06  1280.930054  1281.839966  ...  1277.810059  3656830000\n",
              "2012-01-09  1277.829956  1281.989990  ...  1280.699951  3371600000\n",
              "...                 ...          ...  ...          ...         ...\n",
              "2019-12-10  3135.360107  3142.120117  ...  3132.520020  3343790000\n",
              "2019-12-11  3135.750000  3143.979980  ...  3141.629883  3252540000\n",
              "2019-12-12  3141.229980  3176.280029  ...  3168.570068  3990690000\n",
              "2019-12-13  3166.649902  3182.679932  ...  3168.800049  3736870000\n",
              "2019-12-16  3183.629883  3197.709961  ...  3191.449951  4051790000\n",
              "\n",
              "[2002 rows x 6 columns]"
            ]
          },
          "metadata": {},
          "execution_count": 76
        }
      ]
    },
    {
      "cell_type": "code",
      "metadata": {
        "colab": {
          "base_uri": "https://localhost:8080/"
        },
        "id": "FPNwpKX2Z_PH",
        "outputId": "55083ede-8035-4623-a101-7bd3787e678e"
      },
      "source": [
        "#Get the number of rows and columns in the data set\n",
        "df.shape"
      ],
      "execution_count": 77,
      "outputs": [
        {
          "output_type": "execute_result",
          "data": {
            "text/plain": [
              "(2002, 6)"
            ]
          },
          "metadata": {},
          "execution_count": 77
        }
      ]
    },
    {
      "cell_type": "code",
      "metadata": {
        "colab": {
          "base_uri": "https://localhost:8080/",
          "height": 575
        },
        "id": "4y8Au4Jaad1I",
        "outputId": "d1eb9790-3994-4f37-a4a5-fbdfad8cd4e2"
      },
      "source": [
        "#Visualize S&P 500 Closing Price History from 2012-01-01 to 2019-12-17\n",
        "plt.figure(figsize=(16,8))\n",
        "plt.title('S&P 500 Closing Price History')\n",
        "plt.plot(df['Close'])\n",
        "plt.xlabel('Data', fontsize=18)\n",
        "plt.ylabel('Closed Price USD($)', fontsize=18)\n",
        "plt.show"
      ],
      "execution_count": 78,
      "outputs": [
        {
          "output_type": "execute_result",
          "data": {
            "text/plain": [
              "<function matplotlib.pyplot.show>"
            ]
          },
          "metadata": {},
          "execution_count": 78
        },
        {
          "output_type": "display_data",
          "data": {
            "image/png": "[encoded data removed]",
            "text/plain": [
              "<Figure size 1152x576 with 1 Axes>"
            ]
          },
          "metadata": {}
        }
      ]
    },
    {
      "cell_type": "code",
      "metadata": {
        "colab": {
          "base_uri": "https://localhost:8080/"
        },
        "id": "q7WG3T1Ua2ch",
        "outputId": "f2cf4107-8fe8-4f8d-d472-ad7d255b462f"
      },
      "source": [
        "#Create new dataframe with only closed column\n",
        "data = df.filter(['Close'])\n",
        "#Convert dataframe to a numpy array\n",
        "dataset = data.values\n",
        "#compute the number of rows to train LSTM model using 80% of data\n",
        "training_data_len = math.ceil(len(dataset) * .8)\n",
        "training_data_len"
      ],
      "execution_count": 79,
      "outputs": [
        {
          "output_type": "execute_result",
          "data": {
            "text/plain": [
              "1602"
            ]
          },
          "metadata": {},
          "execution_count": 79
        }
      ]
    },
    {
      "cell_type": "code",
      "metadata": {
        "colab": {
          "base_uri": "https://localhost:8080/"
        },
        "id": "j0NNnLOUbpy8",
        "outputId": "f93de8a8-2160-4afd-8875-8cf4a0091208"
      },
      "source": [
        "#Scale the data(preprocessing input data)\n",
        "scaler = MinMaxScaler(feature_range=(0,1))\n",
        "scaled_data = scaler.fit_transform(dataset)\n",
        "scaled_data"
      ],
      "execution_count": 80,
      "outputs": [
        {
          "output_type": "execute_result",
          "data": {
            "text/plain": [
              "array([[0.00000000e+00],\n",
              "       [1.25361211e-04],\n",
              "       [2.08943853e-03],\n",
              "       ...,\n",
              "       [9.88048473e-01],\n",
              "       [9.88168605e-01],\n",
              "       [1.00000000e+00]])"
            ]
          },
          "metadata": {},
          "execution_count": 80
        }
      ]
    },
    {
      "cell_type": "code",
      "metadata": {
        "colab": {
          "base_uri": "https://localhost:8080/"
        },
        "id": "OsWvfv_Ub9jS",
        "outputId": "43d76272-2ddd-4a41-9079-a311e495ae44"
      },
      "source": [
        "#Create training data set\n",
        "#Create the scaled training data set\n",
        "train_data = scaled_data[0:training_data_len , :]\n",
        "#Split the data into x_train and y_train data sets\n",
        "x_train = [] #independent variablees\n",
        "y_train = [] #dependent variables(target)\n",
        "\n",
        "for i in range (60, len(train_data)):\n",
        "  x_train.append(train_data[i-60: i, 0]) #training values\n",
        "  y_train.append(train_data[i, 0]) #value to predict\n",
        "  if i <= 61:\n",
        "    print(x_train)\n",
        "    print(y_train)\n",
        "    print()"
      ],
      "execution_count": 81,
      "outputs": [
        {
          "output_type": "stream",
          "name": "stdout",
          "text": [
            "[array([0.        , 0.00012536, 0.00208944, 0.00039177, 0.00190133,\n",
            "       0.00784579, 0.00805474, 0.00963228, 0.00628394, 0.00867639,\n",
            "       0.01618269, 0.01955711, 0.02001679, 0.02034065, 0.01963548,\n",
            "       0.02559562, 0.02161002, 0.02051301, 0.0187788 , 0.0184654 ,\n",
            "       0.02456653, 0.02532398, 0.03543686, 0.03513908, 0.03655995,\n",
            "       0.03807997, 0.03911946, 0.03425632, 0.03902547, 0.03836206,\n",
            "       0.0345645 , 0.04230067, 0.04396697, 0.04447887, 0.04210217,\n",
            "       0.04513182, 0.04632282, 0.04728917, 0.04968685, 0.04629151,\n",
            "       0.05068451, 0.0483548 , 0.04558627, 0.03463241, 0.03947469,\n",
            "       0.04641164, 0.04900252, 0.04911743, 0.06210328, 0.06123098,\n",
            "       0.06557698, 0.06639713, 0.06931187, 0.0671023 , 0.06572849,\n",
            "       0.06044744, 0.06270924, 0.07284303, 0.07075882, 0.06711276])]\n",
            "[0.06593221746127353]\n",
            "\n",
            "[array([0.        , 0.00012536, 0.00208944, 0.00039177, 0.00190133,\n",
            "       0.00784579, 0.00805474, 0.00963228, 0.00628394, 0.00867639,\n",
            "       0.01618269, 0.01955711, 0.02001679, 0.02034065, 0.01963548,\n",
            "       0.02559562, 0.02161002, 0.02051301, 0.0187788 , 0.0184654 ,\n",
            "       0.02456653, 0.02532398, 0.03543686, 0.03513908, 0.03655995,\n",
            "       0.03807997, 0.03911946, 0.03425632, 0.03902547, 0.03836206,\n",
            "       0.0345645 , 0.04230067, 0.04396697, 0.04447887, 0.04210217,\n",
            "       0.04513182, 0.04632282, 0.04728917, 0.04968685, 0.04629151,\n",
            "       0.05068451, 0.0483548 , 0.04558627, 0.03463241, 0.03947469,\n",
            "       0.04641164, 0.04900252, 0.04911743, 0.06210328, 0.06123098,\n",
            "       0.06557698, 0.06639713, 0.06931187, 0.0671023 , 0.06572849,\n",
            "       0.06044744, 0.06270924, 0.07284303, 0.07075882, 0.06711276]), array([0.00012536, 0.00208944, 0.00039177, 0.00190133, 0.00784579,\n",
            "       0.00805474, 0.00963228, 0.00628394, 0.00867639, 0.01618269,\n",
            "       0.01955711, 0.02001679, 0.02034065, 0.01963548, 0.02559562,\n",
            "       0.02161002, 0.02051301, 0.0187788 , 0.0184654 , 0.02456653,\n",
            "       0.02532398, 0.03543686, 0.03513908, 0.03655995, 0.03807997,\n",
            "       0.03911946, 0.03425632, 0.03902547, 0.03836206, 0.0345645 ,\n",
            "       0.04230067, 0.04396697, 0.04447887, 0.04210217, 0.04513182,\n",
            "       0.04632282, 0.04728917, 0.04968685, 0.04629151, 0.05068451,\n",
            "       0.0483548 , 0.04558627, 0.03463241, 0.03947469, 0.04641164,\n",
            "       0.04900252, 0.04911743, 0.06210328, 0.06123098, 0.06557698,\n",
            "       0.06639713, 0.06931187, 0.0671023 , 0.06572849, 0.06044744,\n",
            "       0.06270924, 0.07284303, 0.07075882, 0.06711276, 0.06593222])]\n",
            "[0.06593221746127353, 0.06864323334490874]\n",
            "\n"
          ]
        }
      ]
    },
    {
      "cell_type": "code",
      "metadata": {
        "id": "xWd3kq9_hSzx"
      },
      "source": [
        "#Convert the x_train and y_train to numpy arrays\n",
        "x_train, y_train = np.array(x_train), np.array(y_train)"
      ],
      "execution_count": 82,
      "outputs": []
    },
    {
      "cell_type": "code",
      "metadata": {
        "colab": {
          "base_uri": "https://localhost:8080/"
        },
        "id": "2Rxuxf4uhcE2",
        "outputId": "e4223e63-fced-4c70-d483-ba43e24962a8"
      },
      "source": [
        "#reshape the data\n",
        "x_train = np.reshape(x_train, (x_train.shape[0], x_train.shape[1], 1))\n",
        "x_train.shape"
      ],
      "execution_count": 83,
      "outputs": [
        {
          "output_type": "execute_result",
          "data": {
            "text/plain": [
              "(1542, 60, 1)"
            ]
          },
          "metadata": {},
          "execution_count": 83
        }
      ]
    },
    {
      "cell_type": "code",
      "metadata": {
        "id": "eWJh7btIhjX7"
      },
      "source": [
        "#Build the LSTM model\n",
        "model = Sequential()\n",
        "model.add(LSTM(50, return_sequences=True, input_shape=(x_train.shape[1], 1)))\n",
        "model.add(LSTM(50, return_sequences=False))\n",
        "model.add(Dense(75))\n",
        "model.add(Dense(1))"
      ],
      "execution_count": 84,
      "outputs": []
    },
    {
      "cell_type": "code",
      "metadata": {
        "id": "MyxNJv4aiex-"
      },
      "source": [
        "#Complie the model\n",
        "model.compile(optimizer='adam', loss='mean_squared_error')\n"
      ],
      "execution_count": 85,
      "outputs": []
    },
    {
      "cell_type": "code",
      "metadata": {
        "colab": {
          "base_uri": "https://localhost:8080/"
        },
        "id": "VBMXEchsismN",
        "outputId": "485e1e94-47d8-48b1-fbea-d2c8138b982f"
      },
      "source": [
        "#Train the model\n",
        "model.fit(x_train, y_train, batch_size=1, epochs=1)"
      ],
      "execution_count": 86,
      "outputs": [
        {
          "output_type": "stream",
          "name": "stdout",
          "text": [
            "1542/1542 [==============================] - 53s 32ms/step - loss: 0.0017\n"
          ]
        },
        {
          "output_type": "execute_result",
          "data": {
            "text/plain": [
              "<keras.callbacks.History at 0x7f28ca798a10>"
            ]
          },
          "metadata": {},
          "execution_count": 86
        }
      ]
    },
    {
      "cell_type": "code",
      "metadata": {
        "id": "hvPF4US3i3yN"
      },
      "source": [
        "#Create testing data set\n",
        "#Create new array containing scaled values from index 1543 to 2003\n",
        "test_data = scaled_data[training_data_len - 60: , :]\n",
        "#Create thee data sets x_test and y_test\n",
        "x_test = []\n",
        "y_test = dataset[training_data_len:, :] #values to predict\n",
        "#create x_test\n",
        "for i in range(60, len(test_data)):\n",
        "  x_test.append(test_data[i-60:i,0])\n"
      ],
      "execution_count": 87,
      "outputs": []
    },
    {
      "cell_type": "code",
      "metadata": {
        "id": "1Csp58gIjZAV"
      },
      "source": [
        "#Convert the data into a numpy array\n",
        "x_test = np.array(x_test)"
      ],
      "execution_count": 88,
      "outputs": []
    },
    {
      "cell_type": "code",
      "metadata": {
        "id": "EgUET7l7juzk"
      },
      "source": [
        "#Reshape the data to 3d shape for LSTM\n",
        "x_test = np.reshape(x_test, (x_test.shape[0], x_test.shape[1], 1))\n"
      ],
      "execution_count": 89,
      "outputs": []
    },
    {
      "cell_type": "code",
      "metadata": {
        "id": "_BbWTzirkkZW"
      },
      "source": [
        "#Get the models predicted price values\n",
        "predictions = model.predict(x_test)\n",
        "predictions = scaler.inverse_transform(predictions) #unscaling\n",
        "#Predictions should be equal to y_test"
      ],
      "execution_count": 90,
      "outputs": []
    },
    {
      "cell_type": "code",
      "metadata": {
        "colab": {
          "base_uri": "https://localhost:8080/"
        },
        "id": "UIOvlpPkk6L3",
        "outputId": "4cd1ea45-70e1-4890-9114-9ce336d8be8e"
      },
      "source": [
        "#Get root mean squared error(RMSE) to see the accuracy of the model\n",
        "rmse = np.sqrt(np.mean(predictions - y_test)**2)\n",
        "#Get root mean squareed percentage error\n",
        "#rmspe = (np.sqrt(np.mean(np.square((y_true - y_pred) / y_true)))) * 100\n",
        "rmspe = (np.sqrt(np.mean(np.square((y_test - predictions) / y_test)))) * 100\n",
        "rmse"
      ],
      "execution_count": 91,
      "outputs": [
        {
          "output_type": "execute_result",
          "data": {
            "text/plain": [
              "8.14071044921875"
            ]
          },
          "metadata": {},
          "execution_count": 91
        }
      ]
    },
    {
      "cell_type": "code",
      "metadata": {
        "colab": {
          "base_uri": "https://localhost:8080/",
          "height": 680
        },
        "id": "mLui_r_KlLSX",
        "outputId": "4a09aba0-604e-4e06-f323-d10d5d4e38e6"
      },
      "source": [
        "#Plot the data\n",
        "train = data[:training_data_len]\n",
        "valid = data[training_data_len:]\n",
        "valid['Predictions'] = predictions\n",
        "plt.figure(figsize=(16,8))\n",
        "plt.title('Model')\n",
        "plt.xlabel('Data', fontsize=18)\n",
        "plt.ylabel('Close Price USD ($)', fontsize = 18)\n",
        "plt.plot(train['Close'])\n",
        "plt.plot(valid[['Close', 'Predictions']])\n",
        "plt.legend(['Train', 'Val', 'Predictions'], loc = 'lower right')\n",
        "plt.show"
      ],
      "execution_count": 92,
      "outputs": [
        {
          "output_type": "stream",
          "name": "stderr",
          "text": [
            "/usr/local/lib/python3.7/dist-packages/ipykernel_launcher.py:4: SettingWithCopyWarning: \n",
            "A value is trying to be set on a copy of a slice from a DataFrame.\n",
            "Try using .loc[row_indexer,col_indexer] = value instead\n",
            "\n",
            "See the caveats in the documentation: https://pandas.pydata.org/pandas-docs/stable/user_guide/indexing.html#returning-a-view-versus-a-copy\n",
            "  after removing the cwd from sys.path.\n"
          ]
        },
        {
          "output_type": "execute_result",
          "data": {
            "text/plain": [
              "<function matplotlib.pyplot.show>"
            ]
          },
          "metadata": {},
          "execution_count": 92
        },
        {
          "output_type": "display_data",
          "data": {
            "image/png": "[encoded data removed]",
            "text/plain": [
              "<Figure size 1152x576 with 1 Axes>"
            ]
          },
          "metadata": {}
        }
      ]
    },
    {
      "cell_type": "code",
      "metadata": {
        "colab": {
          "base_uri": "https://localhost:8080/",
          "height": 455
        },
        "id": "p8p7BrDCmDEg",
        "outputId": "744916df-10fe-4555-e3f3-78841a185114"
      },
      "source": [
        "#Show the valid and prediction prices\n",
        "valid"
      ],
      "execution_count": 93,
      "outputs": [
        {
          "output_type": "execute_result",
          "data": {
            "text/html": [
              "<div>\n",
              "<style scoped>\n",
              "    .dataframe tbody tr th:only-of-type {\n",
              "        vertical-align: middle;\n",
              "    }\n",
              "\n",
              "    .dataframe tbody tr th {\n",
              "        vertical-align: top;\n",
              "    }\n",
              "\n",
              "    .dataframe thead th {\n",
              "        text-align: right;\n",
              "    }\n",
              "</style>\n",
              "<table border=\"1\" class=\"dataframe\">\n",
              "  <thead>\n",
              "    <tr style=\"text-align: right;\">\n",
              "      <th></th>\n",
              "      <th>Close</th>\n",
              "      <th>Predictions</th>\n",
              "    </tr>\n",
              "    <tr>\n",
              "      <th>Date</th>\n",
              "      <th></th>\n",
              "      <th></th>\n",
              "    </tr>\n",
              "  </thead>\n",
              "  <tbody>\n",
              "    <tr>\n",
              "      <th>2018-05-16</th>\n",
              "      <td>2722.459961</td>\n",
              "      <td>2712.730713</td>\n",
              "    </tr>\n",
              "    <tr>\n",
              "      <th>2018-05-17</th>\n",
              "      <td>2720.129883</td>\n",
              "      <td>2718.810791</td>\n",
              "    </tr>\n",
              "    <tr>\n",
              "      <th>2018-05-18</th>\n",
              "      <td>2712.969971</td>\n",
              "      <td>2723.848145</td>\n",
              "    </tr>\n",
              "    <tr>\n",
              "      <th>2018-05-21</th>\n",
              "      <td>2733.010010</td>\n",
              "      <td>2727.406982</td>\n",
              "    </tr>\n",
              "    <tr>\n",
              "      <th>2018-05-22</th>\n",
              "      <td>2724.439941</td>\n",
              "      <td>2731.304688</td>\n",
              "    </tr>\n",
              "    <tr>\n",
              "      <th>...</th>\n",
              "      <td>...</td>\n",
              "      <td>...</td>\n",
              "    </tr>\n",
              "    <tr>\n",
              "      <th>2019-12-10</th>\n",
              "      <td>3132.520020</td>\n",
              "      <td>3122.256836</td>\n",
              "    </tr>\n",
              "    <tr>\n",
              "      <th>2019-12-11</th>\n",
              "      <td>3141.629883</td>\n",
              "      <td>3123.776123</td>\n",
              "    </tr>\n",
              "    <tr>\n",
              "      <th>2019-12-12</th>\n",
              "      <td>3168.570068</td>\n",
              "      <td>3125.793701</td>\n",
              "    </tr>\n",
              "    <tr>\n",
              "      <th>2019-12-13</th>\n",
              "      <td>3168.800049</td>\n",
              "      <td>3129.825195</td>\n",
              "    </tr>\n",
              "    <tr>\n",
              "      <th>2019-12-16</th>\n",
              "      <td>3191.449951</td>\n",
              "      <td>3134.630859</td>\n",
              "    </tr>\n",
              "  </tbody>\n",
              "</table>\n",
              "<p>400 rows × 2 columns</p>\n",
              "</div>"
            ],
            "text/plain": [
              "                  Close  Predictions\n",
              "Date                                \n",
              "2018-05-16  2722.459961  2712.730713\n",
              "2018-05-17  2720.129883  2718.810791\n",
              "2018-05-18  2712.969971  2723.848145\n",
              "2018-05-21  2733.010010  2727.406982\n",
              "2018-05-22  2724.439941  2731.304688\n",
              "...                 ...          ...\n",
              "2019-12-10  3132.520020  3122.256836\n",
              "2019-12-11  3141.629883  3123.776123\n",
              "2019-12-12  3168.570068  3125.793701\n",
              "2019-12-13  3168.800049  3129.825195\n",
              "2019-12-16  3191.449951  3134.630859\n",
              "\n",
              "[400 rows x 2 columns]"
            ]
          },
          "metadata": {},
          "execution_count": 93
        }
      ]
    },
    {
      "cell_type": "code",
      "metadata": {
        "colab": {
          "base_uri": "https://localhost:8080/"
        },
        "id": "gE1oIseRt-XQ",
        "outputId": "ba0c959b-4f4f-47cb-e013-ddb5d75bcfca"
      },
      "source": [
        "match = 0\n",
        "for i in valid['Close']:\n",
        "  for j in valid['Predictions']:\n",
        "    if ((i + 50) >= j) and ((i - 50) <= j):\n",
        "      match = match + 1\n",
        "acc = match / len(valid)\n",
        "acc"
      ],
      "execution_count": 94,
      "outputs": [
        {
          "output_type": "execute_result",
          "data": {
            "text/plain": [
              "83.925"
            ]
          },
          "metadata": {},
          "execution_count": 94
        }
      ]
    },
    {
      "cell_type": "code",
      "metadata": {
        "colab": {
          "base_uri": "https://localhost:8080/"
        },
        "id": "5q5JrSoSmQaY",
        "outputId": "c58b9570-85a4-47b0-b0bb-ded6c66f0b66"
      },
      "source": [
        "#Get the quote\n",
        "SP500_quote = yf.download(\"^GSPC\", start = '2012-01-01', end='2019-12-17')\n",
        "#Create new dataframe\n",
        "new_df = SP500_quote.filter(['Close'])\n",
        "#get the last 60 days closing price values and convert the data frame to an array\n",
        "last_60_days = new_df[-60:].values\n",
        "#Scale the data to be value between 0 and 1\n",
        "last_60_days_scaled = scaler.transform(last_60_days)\n",
        "#Create an empty list\n",
        "X_test = []\n",
        "#Append the past 60 days \n",
        "X_test.append(last_60_days_scaled)\n",
        "#Convert the X_test data set to a numpy array\n",
        "X_test = np.array(X_test)\n",
        "#Reshape the data to be 3D\n",
        "X_test = np.reshape(X_test, (X_test.shape[0], X_test.shape[1], 1))\n",
        "#Get the predicted scale price\n",
        "pred_price = model.predict(X_test)\n",
        "#undo the scaling\n",
        "pred_price = scaler.inverse_transform(pred_price)\n",
        "print(pred_price)"
      ],
      "execution_count": 95,
      "outputs": [
        {
          "output_type": "stream",
          "name": "stdout",
          "text": [
            "\r[*********************100%***********************]  1 of 1 completed\n",
            "[[3141.1367]]\n"
          ]
        }
      ]
    },
    {
      "cell_type": "code",
      "metadata": {
        "colab": {
          "base_uri": "https://localhost:8080/"
        },
        "id": "ijoeV7upmpqg",
        "outputId": "aa361bad-19e1-4ab4-80b4-4856fdea15b5"
      },
      "source": [
        "#Get the actual quotee\n",
        "SP500_actual_quote = yf.download('^GSPC', start=\"2019-12-18\", end=\"2019-12-20\")\n",
        "print(SP500_actual_quote['Close'])"
      ],
      "execution_count": 96,
      "outputs": [
        {
          "output_type": "stream",
          "name": "stdout",
          "text": [
            "\r[*********************100%***********************]  1 of 1 completed\n",
            "Date\n",
            "2019-12-18    3191.139893\n",
            "2019-12-19    3205.370117\n",
            "Name: Close, dtype: float64\n"
          ]
        }
      ]
    },
    {
      "cell_type": "code",
      "metadata": {
        "id": "4fdvR6Oon8I9"
      },
      "source": [
        ""
      ],
      "execution_count": 96,
      "outputs": []
    }
  ]
}